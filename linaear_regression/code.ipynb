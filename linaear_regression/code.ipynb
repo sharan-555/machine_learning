{
 "cells": [
  {
   "cell_type": "code",
   "execution_count": 1,
   "metadata": {},
   "outputs": [],
   "source": [
    "import pandas as pd\n",
    "import matplotlib.pyplot as pp\n",
    "import numpy as np\n"
   ]
  },
  {
   "cell_type": "code",
   "execution_count": 2,
   "id": "d38a1f86",
   "metadata": {},
   "outputs": [],
   "source": [
    "data=pd.read_csv('./linearreg.csv')"
   ]
  },
  {
   "cell_type": "code",
   "execution_count": 3,
   "id": "15d8d1d8",
   "metadata": {},
   "outputs": [
    {
     "data": {
      "text/html": [
       "<div>\n",
       "<style scoped>\n",
       "    .dataframe tbody tr th:only-of-type {\n",
       "        vertical-align: middle;\n",
       "    }\n",
       "\n",
       "    .dataframe tbody tr th {\n",
       "        vertical-align: top;\n",
       "    }\n",
       "\n",
       "    .dataframe thead th {\n",
       "        text-align: right;\n",
       "    }\n",
       "</style>\n",
       "<table border=\"1\" class=\"dataframe\">\n",
       "  <thead>\n",
       "    <tr style=\"text-align: right;\">\n",
       "      <th></th>\n",
       "      <th>x</th>\n",
       "      <th>y</th>\n",
       "    </tr>\n",
       "  </thead>\n",
       "  <tbody>\n",
       "    <tr>\n",
       "      <th>0</th>\n",
       "      <td>28</td>\n",
       "      <td>424</td>\n",
       "    </tr>\n",
       "    <tr>\n",
       "      <th>1</th>\n",
       "      <td>19</td>\n",
       "      <td>403</td>\n",
       "    </tr>\n",
       "    <tr>\n",
       "      <th>2</th>\n",
       "      <td>7</td>\n",
       "      <td>369</td>\n",
       "    </tr>\n",
       "    <tr>\n",
       "      <th>3</th>\n",
       "      <td>17</td>\n",
       "      <td>369</td>\n",
       "    </tr>\n",
       "    <tr>\n",
       "      <th>4</th>\n",
       "      <td>33</td>\n",
       "      <td>363</td>\n",
       "    </tr>\n",
       "    <tr>\n",
       "      <th>5</th>\n",
       "      <td>56</td>\n",
       "      <td>316</td>\n",
       "    </tr>\n",
       "    <tr>\n",
       "      <th>6</th>\n",
       "      <td>80</td>\n",
       "      <td>339</td>\n",
       "    </tr>\n",
       "    <tr>\n",
       "      <th>7</th>\n",
       "      <td>130</td>\n",
       "      <td>335</td>\n",
       "    </tr>\n",
       "    <tr>\n",
       "      <th>8</th>\n",
       "      <td>110</td>\n",
       "      <td>383</td>\n",
       "    </tr>\n",
       "    <tr>\n",
       "      <th>9</th>\n",
       "      <td>71</td>\n",
       "      <td>382</td>\n",
       "    </tr>\n",
       "    <tr>\n",
       "      <th>10</th>\n",
       "      <td>66</td>\n",
       "      <td>357</td>\n",
       "    </tr>\n",
       "    <tr>\n",
       "      <th>11</th>\n",
       "      <td>98</td>\n",
       "      <td>334</td>\n",
       "    </tr>\n",
       "    <tr>\n",
       "      <th>12</th>\n",
       "      <td>90</td>\n",
       "      <td>312</td>\n",
       "    </tr>\n",
       "    <tr>\n",
       "      <th>13</th>\n",
       "      <td>148</td>\n",
       "      <td>306</td>\n",
       "    </tr>\n",
       "    <tr>\n",
       "      <th>14</th>\n",
       "      <td>139</td>\n",
       "      <td>296</td>\n",
       "    </tr>\n",
       "    <tr>\n",
       "      <th>15</th>\n",
       "      <td>171</td>\n",
       "      <td>332</td>\n",
       "    </tr>\n",
       "    <tr>\n",
       "      <th>16</th>\n",
       "      <td>179</td>\n",
       "      <td>300</td>\n",
       "    </tr>\n",
       "    <tr>\n",
       "      <th>17</th>\n",
       "      <td>168</td>\n",
       "      <td>266</td>\n",
       "    </tr>\n",
       "    <tr>\n",
       "      <th>18</th>\n",
       "      <td>215</td>\n",
       "      <td>287</td>\n",
       "    </tr>\n",
       "    <tr>\n",
       "      <th>19</th>\n",
       "      <td>232</td>\n",
       "      <td>305</td>\n",
       "    </tr>\n",
       "    <tr>\n",
       "      <th>20</th>\n",
       "      <td>227</td>\n",
       "      <td>265</td>\n",
       "    </tr>\n",
       "    <tr>\n",
       "      <th>21</th>\n",
       "      <td>220</td>\n",
       "      <td>240</td>\n",
       "    </tr>\n",
       "    <tr>\n",
       "      <th>22</th>\n",
       "      <td>242</td>\n",
       "      <td>248</td>\n",
       "    </tr>\n",
       "    <tr>\n",
       "      <th>23</th>\n",
       "      <td>261</td>\n",
       "      <td>258</td>\n",
       "    </tr>\n",
       "    <tr>\n",
       "      <th>24</th>\n",
       "      <td>280</td>\n",
       "      <td>244</td>\n",
       "    </tr>\n",
       "    <tr>\n",
       "      <th>25</th>\n",
       "      <td>307</td>\n",
       "      <td>229</td>\n",
       "    </tr>\n",
       "    <tr>\n",
       "      <th>26</th>\n",
       "      <td>324</td>\n",
       "      <td>216</td>\n",
       "    </tr>\n",
       "    <tr>\n",
       "      <th>27</th>\n",
       "      <td>365</td>\n",
       "      <td>193</td>\n",
       "    </tr>\n",
       "    <tr>\n",
       "      <th>28</th>\n",
       "      <td>328</td>\n",
       "      <td>183</td>\n",
       "    </tr>\n",
       "    <tr>\n",
       "      <th>29</th>\n",
       "      <td>311</td>\n",
       "      <td>181</td>\n",
       "    </tr>\n",
       "    <tr>\n",
       "      <th>30</th>\n",
       "      <td>303</td>\n",
       "      <td>203</td>\n",
       "    </tr>\n",
       "    <tr>\n",
       "      <th>31</th>\n",
       "      <td>275</td>\n",
       "      <td>227</td>\n",
       "    </tr>\n",
       "    <tr>\n",
       "      <th>32</th>\n",
       "      <td>248</td>\n",
       "      <td>232</td>\n",
       "    </tr>\n",
       "    <tr>\n",
       "      <th>33</th>\n",
       "      <td>343</td>\n",
       "      <td>172</td>\n",
       "    </tr>\n",
       "    <tr>\n",
       "      <th>34</th>\n",
       "      <td>371</td>\n",
       "      <td>163</td>\n",
       "    </tr>\n",
       "    <tr>\n",
       "      <th>35</th>\n",
       "      <td>391</td>\n",
       "      <td>161</td>\n",
       "    </tr>\n",
       "    <tr>\n",
       "      <th>36</th>\n",
       "      <td>401</td>\n",
       "      <td>178</td>\n",
       "    </tr>\n",
       "    <tr>\n",
       "      <th>37</th>\n",
       "      <td>403</td>\n",
       "      <td>137</td>\n",
       "    </tr>\n",
       "    <tr>\n",
       "      <th>38</th>\n",
       "      <td>410</td>\n",
       "      <td>144</td>\n",
       "    </tr>\n",
       "    <tr>\n",
       "      <th>39</th>\n",
       "      <td>416</td>\n",
       "      <td>155</td>\n",
       "    </tr>\n",
       "    <tr>\n",
       "      <th>40</th>\n",
       "      <td>280</td>\n",
       "      <td>234</td>\n",
       "    </tr>\n",
       "    <tr>\n",
       "      <th>41</th>\n",
       "      <td>420</td>\n",
       "      <td>136</td>\n",
       "    </tr>\n",
       "    <tr>\n",
       "      <th>42</th>\n",
       "      <td>445</td>\n",
       "      <td>135</td>\n",
       "    </tr>\n",
       "    <tr>\n",
       "      <th>43</th>\n",
       "      <td>187</td>\n",
       "      <td>253</td>\n",
       "    </tr>\n",
       "    <tr>\n",
       "      <th>44</th>\n",
       "      <td>138</td>\n",
       "      <td>278</td>\n",
       "    </tr>\n",
       "    <tr>\n",
       "      <th>45</th>\n",
       "      <td>316</td>\n",
       "      <td>197</td>\n",
       "    </tr>\n",
       "    <tr>\n",
       "      <th>46</th>\n",
       "      <td>409</td>\n",
       "      <td>120</td>\n",
       "    </tr>\n",
       "    <tr>\n",
       "      <th>47</th>\n",
       "      <td>399</td>\n",
       "      <td>178</td>\n",
       "    </tr>\n",
       "    <tr>\n",
       "      <th>48</th>\n",
       "      <td>127</td>\n",
       "      <td>267</td>\n",
       "    </tr>\n",
       "    <tr>\n",
       "      <th>49</th>\n",
       "      <td>99</td>\n",
       "      <td>276</td>\n",
       "    </tr>\n",
       "  </tbody>\n",
       "</table>\n",
       "</div>"
      ],
      "text/plain": [
       "      x    y\n",
       "0    28  424\n",
       "1    19  403\n",
       "2     7  369\n",
       "3    17  369\n",
       "4    33  363\n",
       "5    56  316\n",
       "6    80  339\n",
       "7   130  335\n",
       "8   110  383\n",
       "9    71  382\n",
       "10   66  357\n",
       "11   98  334\n",
       "12   90  312\n",
       "13  148  306\n",
       "14  139  296\n",
       "15  171  332\n",
       "16  179  300\n",
       "17  168  266\n",
       "18  215  287\n",
       "19  232  305\n",
       "20  227  265\n",
       "21  220  240\n",
       "22  242  248\n",
       "23  261  258\n",
       "24  280  244\n",
       "25  307  229\n",
       "26  324  216\n",
       "27  365  193\n",
       "28  328  183\n",
       "29  311  181\n",
       "30  303  203\n",
       "31  275  227\n",
       "32  248  232\n",
       "33  343  172\n",
       "34  371  163\n",
       "35  391  161\n",
       "36  401  178\n",
       "37  403  137\n",
       "38  410  144\n",
       "39  416  155\n",
       "40  280  234\n",
       "41  420  136\n",
       "42  445  135\n",
       "43  187  253\n",
       "44  138  278\n",
       "45  316  197\n",
       "46  409  120\n",
       "47  399  178\n",
       "48  127  267\n",
       "49   99  276"
      ]
     },
     "execution_count": 3,
     "metadata": {},
     "output_type": "execute_result"
    }
   ],
   "source": [
    "data"
   ]
  },
  {
   "attachments": {},
   "cell_type": "markdown",
   "id": "5bfe3ef6",
   "metadata": {},
   "source": [
    "converting the rows inno arrays "
   ]
  },
  {
   "cell_type": "code",
   "execution_count": 4,
   "id": "b46eec05",
   "metadata": {},
   "outputs": [],
   "source": [
    "x=data.x.to_numpy()\n",
    "y=data.y.to_numpy()"
   ]
  },
  {
   "cell_type": "code",
   "execution_count": 5,
   "id": "80e72107",
   "metadata": {},
   "outputs": [
    {
     "data": {
      "text/plain": [
       "array([ 28,  19,   7,  17,  33,  56,  80, 130, 110,  71,  66,  98,  90,\n",
       "       148, 139, 171, 179, 168, 215, 232, 227, 220, 242, 261, 280, 307,\n",
       "       324, 365, 328, 311, 303, 275, 248, 343, 371, 391, 401, 403, 410,\n",
       "       416, 280, 420, 445, 187, 138, 316, 409, 399, 127,  99], dtype=int64)"
      ]
     },
     "execution_count": 5,
     "metadata": {},
     "output_type": "execute_result"
    }
   ],
   "source": [
    "x"
   ]
  },
  {
   "cell_type": "code",
   "execution_count": 6,
   "id": "7e2477e3",
   "metadata": {},
   "outputs": [
    {
     "data": {
      "text/plain": [
       "array([424, 403, 369, 369, 363, 316, 339, 335, 383, 382, 357, 334, 312,\n",
       "       306, 296, 332, 300, 266, 287, 305, 265, 240, 248, 258, 244, 229,\n",
       "       216, 193, 183, 181, 203, 227, 232, 172, 163, 161, 178, 137, 144,\n",
       "       155, 234, 136, 135, 253, 278, 197, 120, 178, 267, 276], dtype=int64)"
      ]
     },
     "execution_count": 6,
     "metadata": {},
     "output_type": "execute_result"
    }
   ],
   "source": [
    "y"
   ]
  },
  {
   "attachments": {},
   "cell_type": "markdown",
   "id": "1c8a89f1",
   "metadata": {},
   "source": [
    "ploting of the points (x,y)"
   ]
  },
  {
   "cell_type": "code",
   "execution_count": 7,
   "id": "96bbbae1",
   "metadata": {},
   "outputs": [
    {
     "data": {
      "text/plain": [
       "<matplotlib.collections.PathCollection at 0x1fa9e1b71f0>"
      ]
     },
     "execution_count": 7,
     "metadata": {},
     "output_type": "execute_result"
    },
    {
     "data": {
      "image/png": "[encoded data removed]",
      "text/plain": [
       "<Figure size 640x480 with 1 Axes>"
      ]
     },
     "metadata": {},
     "output_type": "display_data"
    }
   ],
   "source": [
    "pp.scatter(x,y)"
   ]
  },
  {
   "cell_type": "code",
   "execution_count": 17,
   "id": "cbf77d35",
   "metadata": {},
   "outputs": [
    {
     "name": "stdout",
     "output_type": "stream",
     "text": [
      "226.06\n",
      "257.62\n"
     ]
    }
   ],
   "source": [
    "mean_x=sum(x)/len(x)\n",
    "print(mean_x)\n",
    "mean_y=sum(y)/len(y)\n",
    "print(mean_y)"
   ]
  },
  {
   "attachments": {},
   "cell_type": "markdown",
   "id": "d7f78e8a",
   "metadata": {},
   "source": [
    "deviations Y=y-mean(y)\n",
    "           X=x-maean(x)"
   ]
  },
  {
   "cell_type": "code",
   "execution_count": 18,
   "id": "9e74a626",
   "metadata": {},
   "outputs": [],
   "source": [
    "x_dev=x-mean_x\n",
    "y_dev=y-mean_y"
   ]
  },
  {
   "attachments": {},
   "cell_type": "markdown",
   "id": "be056e0f",
   "metadata": {},
   "source": [
    "slope=>   m = Σ((x - x_mean) * (y - y_mean)) / Σ((x - x_mean)^2)"
   ]
  },
  {
   "cell_type": "code",
   "execution_count": 29,
   "id": "3772e652",
   "metadata": {},
   "outputs": [
    {
     "name": "stdout",
     "output_type": "stream",
     "text": [
      "[  8  27  64 125]\n"
     ]
    }
   ],
   "source": [
    "numbers = np.array([2, 3, 4, 5])\n",
    "power = 3\n",
    "\n",
    "result = np.power(numbers, power)\n",
    "print(result)"
   ]
  },
  {
   "cell_type": "code",
   "execution_count": 30,
   "id": "7d6ecde5",
   "metadata": {},
   "outputs": [
    {
     "name": "stdout",
     "output_type": "stream",
     "text": [
      "[ 2  6 12]\n"
     ]
    }
   ],
   "source": [
    "s1=np.array([1,2,3])\n",
    "s2=np.array([2,3,4])\n",
    "print(s1*s2)"
   ]
  },
  {
   "cell_type": "code",
   "execution_count": 31,
   "id": "7bb7a0be",
   "metadata": {},
   "outputs": [
    {
     "name": "stdout",
     "output_type": "stream",
     "text": [
      "[3.92277636e+04 4.28738436e+04 4.79872836e+04 4.37060836e+04\n",
      " 3.72721636e+04 2.89204036e+04 2.13335236e+04 9.22752360e+03\n",
      " 1.34699236e+04 2.40436036e+04 2.56192036e+04 1.63993636e+04\n",
      " 1.85123236e+04 6.09336360e+03 7.57944360e+03 3.03160360e+03\n",
      " 2.21464360e+03 3.37096360e+03 1.22323600e+02 3.52836000e+01\n",
      " 8.83600000e-01 3.67236000e+01 2.54083600e+02 1.22080360e+03\n",
      " 2.90952360e+03 6.55128360e+03 9.59224360e+03 1.93043236e+04\n",
      " 1.03917636e+04 7.21480360e+03 5.91976360e+03 2.39512360e+03\n",
      " 4.81363600e+02 1.36749636e+04 2.10076036e+04 2.72052036e+04\n",
      " 3.06040036e+04 3.13077636e+04 3.38339236e+04 3.60772036e+04\n",
      " 2.90952360e+03 3.76127236e+04 4.79347236e+04 1.52568360e+03\n",
      " 7.75456360e+03 8.08920360e+03 3.34670436e+04 2.99082436e+04\n",
      " 9.81288360e+03 1.61442436e+04]\n"
     ]
    }
   ],
   "source": [
    "denom=np.power(x_dev,2)\n",
    "print(denom)"
   ]
  },
  {
   "cell_type": "code",
   "execution_count": 33,
   "id": "17293f43",
   "metadata": {},
   "outputs": [
    {
     "name": "stdout",
     "output_type": "stream",
     "text": [
      "-0.5835782154026713\n"
     ]
    }
   ],
   "source": [
    "slope=sum(x_dev*y_dev)/sum(denom)\n",
    "print(slope)"
   ]
  },
  {
   "attachments": {},
   "cell_type": "markdown",
   "id": "d658d27b",
   "metadata": {},
   "source": [
    "Calculate the y-intercept: Calculate the y-intercept (b) using the following formula:\n",
    "b = y_mean - (m * x_mean)"
   ]
  },
  {
   "cell_type": "code",
   "execution_count": 38,
   "id": "065463e4",
   "metadata": {},
   "outputs": [
    {
     "name": "stdout",
     "output_type": "stream",
     "text": [
      "389.5436913739279\n"
     ]
    }
   ],
   "source": [
    "y_intercept=mean_y-(slope*mean_x)\n",
    "print(y_intercept)"
   ]
  },
  {
   "attachments": {},
   "cell_type": "markdown",
   "id": "b5c7cea8",
   "metadata": {},
   "source": [
    "Formulate the linear regression equation: Using the slope (m) and y-intercept (b) calculated in the previous steps, write the equation of the linear regression line:\n",
    "y = mx + b"
   ]
  },
  {
   "cell_type": "code",
   "execution_count": 40,
   "id": "7d8121d5",
   "metadata": {},
   "outputs": [
    {
     "name": "stdout",
     "output_type": "stream",
     "text": [
      "[373.20350134 378.45570528 385.45864387 379.62286171 370.28561027\n",
      " 356.86331131 342.85743414 313.67852337 325.35008768 348.10963808\n",
      " 351.02752916 332.35302626 337.02165199 303.17411549 308.42631943\n",
      " 289.75181654 285.08319082 291.50255119 264.07437506 254.1535454\n",
      " 257.07143648 261.15648399 248.31776325 237.22977715 226.14179106\n",
      " 210.38517925 200.46434958 176.53764275 198.13003672 208.05086638\n",
      " 212.71949211 229.05968214 244.81629395 189.37636349 173.03617346\n",
      " 161.36460915 155.528827   154.36167057 150.27662306 146.77515377\n",
      " 226.14179106 144.4408409  129.85138552 280.41456509 309.00989765\n",
      " 205.13297531 150.86020127 156.69598343 315.42925802 331.76944805]\n"
     ]
    }
   ],
   "source": [
    "f=[]\n",
    "for i in x:\n",
    "    Y=slope*i+y_intercept\n",
    "    f.append(Y)\n",
    "\n",
    "##print(f)\n",
    "k=np.array(f)\n",
    "print(k)\n",
    "\n"
   ]
  },
  {
   "cell_type": "code",
   "execution_count": 45,
   "id": "f11a8b48",
   "metadata": {},
   "outputs": [
    {
     "data": {
      "text/plain": [
       "<matplotlib.collections.PathCollection at 0x1faa2abbf40>"
      ]
     },
     "execution_count": 45,
     "metadata": {},
     "output_type": "execute_result"
    },
    {
     "data": {
      "image/png": "[encoded data removed]",
      "text/plain": [
       "<Figure size 640x480 with 1 Axes>"
      ]
     },
     "metadata": {},
     "output_type": "display_data"
    }
   ],
   "source": [
    "pp.scatter(x,k)"
   ]
  },
  {
   "cell_type": "code",
   "execution_count": 46,
   "id": "1f928f11",
   "metadata": {},
   "outputs": [
    {
     "data": {
      "image/png": "[encoded data removed]",
      "text/plain": [
       "<Figure size 640x480 with 1 Axes>"
      ]
     },
     "metadata": {},
     "output_type": "display_data"
    }
   ],
   "source": [
    "import matplotlib.pyplot as plt\n",
    "\n",
    "# Scatter plot of the data points\n",
    "plt.scatter(x, y, label='Data Points')\n",
    "\n",
    "# Plot the regression line\n",
    "plt.plot(x, k, color='red', label='Regression Line')\n",
    "\n",
    "# Customize the plot\n",
    "plt.xlabel('Independent Variable')\n",
    "plt.ylabel('Dependent Variable')\n",
    "plt.title('Linear Regression')\n",
    "plt.legend()\n",
    "\n",
    "# Show the plot\n",
    "plt.show()\n"
   ]
  }
 ],
 "metadata": {
  "kernelspec": {
   "display_name": "Python 3",
   "language": "python",
   "name": "python3"
  },
  "language_info": {
   "codemirror_mode": {
    "name": "ipython",
    "version": 3
   },
   "file_extension": ".py",
   "mimetype": "text/x-python",
   "name": "python",
   "nbconvert_exporter": "python",
   "pygments_lexer": "ipython3",
   "version": "3.10.11"
  }
 },
 "nbformat": 4,
 "nbformat_minor": 5
}
